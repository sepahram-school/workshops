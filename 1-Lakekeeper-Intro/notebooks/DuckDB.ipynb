{
 "cells": [
  {
   "cell_type": "code",
   "execution_count": 1,
   "metadata": {},
   "outputs": [
    {
     "name": "stdout",
     "output_type": "stream",
     "text": [
      "\u001b[33mWARNING: Running pip as the 'root' user can result in broken permissions and conflicting behaviour with the system package manager, possibly rendering your system unusable. It is recommended to use a virtual environment instead: https://pip.pypa.io/warnings/venv. Use the --root-user-action option if you know what you are doing and want to suppress this warning.\u001b[0m\u001b[33m\n",
      "\u001b[0m\n",
      "\u001b[1m[\u001b[0m\u001b[34;49mnotice\u001b[0m\u001b[1;39;49m]\u001b[0m\u001b[39;49m A new release of pip is available: \u001b[0m\u001b[31;49m25.0.1\u001b[0m\u001b[39;49m -> \u001b[0m\u001b[32;49m25.2\u001b[0m\n",
      "\u001b[1m[\u001b[0m\u001b[34;49mnotice\u001b[0m\u001b[1;39;49m]\u001b[0m\u001b[39;49m To update, run: \u001b[0m\u001b[32;49mpip install --upgrade pip\u001b[0m\n"
     ]
    }
   ],
   "source": [
    "!pip install -q duckdb --upgrade"
   ]
  },
  {
   "cell_type": "code",
   "execution_count": 2,
   "metadata": {},
   "outputs": [],
   "source": [
    "# This CATALOG_URL works for the \"docker compose\" testing and development environment\n",
    "# Change 'lakekeeper' if you are not running on \"docker compose\" (f. ex. 'localhost' if Lakekeeper is running locally).\n",
    "CATALOG_URL = \"http://lakekeeper:8181/catalog\"\n",
    "WAREHOUSE = \"sepahram\""
   ]
  },
  {
   "cell_type": "code",
   "execution_count": 3,
   "metadata": {},
   "outputs": [],
   "source": [
    "import duckdb"
   ]
  },
  {
   "cell_type": "markdown",
   "metadata": {},
   "source": [
    "# Prepare Catalog"
   ]
  },
  {
   "cell_type": "code",
   "execution_count": 4,
   "metadata": {},
   "outputs": [
    {
     "data": {
      "application/vnd.jupyter.widget-view+json": {
       "model_id": "5be941944f12441b9923c66d7e24f233",
       "version_major": 2,
       "version_minor": 0
      },
      "text/plain": [
       "FloatProgress(value=0.0, layout=Layout(width='auto'), style=ProgressStyle(bar_color='black'))"
      ]
     },
     "metadata": {},
     "output_type": "display_data"
    },
    {
     "data": {
      "application/vnd.jupyter.widget-view+json": {
       "model_id": "7fcd1bada00d4e449d568aa310b1d04c",
       "version_major": 2,
       "version_minor": 0
      },
      "text/plain": [
       "FloatProgress(value=0.0, layout=Layout(width='auto'), style=ProgressStyle(bar_color='black'))"
      ]
     },
     "metadata": {},
     "output_type": "display_data"
    }
   ],
   "source": [
    "duckdb.sql(\"INSTALL ICEBERG;\");\n",
    "duckdb.sql(\"INSTALL httpfs;\");\n",
    "duckdb.sql(\"UPDATE EXTENSIONS;\");\n",
    "duckdb.sql(\"LOAD ICEBERG;\");\n",
    "duckdb.sql(\"LOAD httpfs;\");"
   ]
  },
  {
   "cell_type": "code",
   "execution_count": 5,
   "metadata": {},
   "outputs": [],
   "source": [
    "duckdb.sql(f\"\"\"attach '{WAREHOUSE}' as my_datalake (\n",
    "\ttype ICEBERG,\n",
    "\tENDPOINT '{CATALOG_URL}',\n",
    "\tTOKEN ''\n",
    ")\n",
    "\"\"\");"
   ]
  },
  {
   "cell_type": "markdown",
   "metadata": {},
   "source": [
    "## Read Tables\n",
    "Make sure to run the `Pyiceberg.ipynb` Notebook first!"
   ]
  },
  {
   "cell_type": "code",
   "execution_count": 6,
   "metadata": {},
   "outputs": [
    {
     "name": "stdout",
     "output_type": "stream",
     "text": [
      "┌──────────────────────────────────────┬────────────────┬───────────────────────────────┬────────┬──────────┬───────────────────┬───────────────────────────────────┬─────────────────────────────┬─────────────────┬─────────────────┬─────────────┬──────────────────────────────────────┐\n",
      "│            transactionId             │     userId     │           timestamp           │ amount │ currency │       city        │              country              │        merchantName         │  paymentMethod  │    ipAddress    │ voucherCode │             affiliateId              │\n",
      "│               varchar                │    varchar     │   timestamp with time zone    │ double │ varchar  │      varchar      │              varchar              │           varchar           │     varchar     │     varchar     │   varchar   │               varchar                │\n",
      "├──────────────────────────────────────┼────────────────┼───────────────────────────────┼────────┼──────────┼───────────────────┼───────────────────────────────────┼─────────────────────────────┼─────────────────┼─────────────────┼─────────────┼──────────────────────────────────────┤\n",
      "│ 4cec493b-8714-4af6-b49e-fc116428c9f0 │ nmoore         │ 2025-09-10 14:09:07.930728+00 │ 541.76 │ GBP      │ New Kimberly      │ Pakistan                          │ Mckay Inc                   │ debit_card      │ 212.170.168.211 │             │ a9ddf833-5da3-428c-b68d-bac1a5f06873 │\n",
      "│ 0246ce20-3312-40d5-8108-003f26442771 │ tcarter        │ 2025-09-10 14:09:08.176383+00 │ 983.15 │ GBP      │ West Melanie      │ Latvia                            │ Hines-Lee                   │ debit_card      │ 197.55.115.121  │ DISCOUNT10  │ f8f5dbf3-3924-4382-a9f8-437fae9d993b │\n",
      "│ c8acef56-4855-4f6c-b7ff-74da649f181e │ martinleroy    │ 2025-09-10 14:09:08.869533+00 │  57.13 │ GBP      │ Perrytown         │ Montserrat                        │ Brown-Gill                  │ online_transfer │ 30.175.28.140   │ DISCOUNT10  │ 594af244-641a-4f1a-b27a-c149112cc5e7 │\n",
      "│ a3ad0c99-b42e-4e63-9f19-2f27c2cb3b8d │ philip08       │ 2025-09-10 14:09:09.162026+00 │ 745.33 │ GBP      │ North Amanda      │ Italy                             │ Rose Ltd                    │ online_transfer │ 29.97.209.87    │ DISCOUNT10  │ 4c6f6619-1140-46b7-b7c9-35cbd594bb69 │\n",
      "│ 4d3677ef-0f44-478c-9830-25cb003a0f9d │ vclements      │ 2025-09-10 14:09:09.930231+00 │ 505.83 │ GBP      │ New Carlos        │ Nauru                             │ Cooley, Burton and Haynes   │ online_transfer │ 87.10.207.159   │             │ e5f2ebec-f480-421c-8c70-88048584e7d4 │\n",
      "│ 496d2c8b-ae96-4952-82b2-4d3921a474c4 │ alangreen      │ 2025-09-10 14:09:10.773079+00 │ 693.03 │ GBP      │ Scotttown         │ Georgia                           │ Roth, Cooper and Mcmillan   │ online_transfer │ 158.210.50.42   │             │ cfb16d8a-055f-454f-9369-85bb8f1700f2 │\n",
      "│ cd43a201-aa76-4e70-b8e7-43aee302f832 │ julievelez     │ 2025-09-10 14:09:11.481568+00 │ 834.96 │ GBP      │ East Manuel       │ Uruguay                           │ Duarte-Tucker               │ debit_card      │ 99.212.45.203   │             │ 9d3f6b5d-1310-4cda-9ac4-fedaed0e989e │\n",
      "│ cdfa0d15-a426-4d4e-8c71-030973547fb6 │ brian03        │ 2025-09-10 14:09:12.188967+00 │ 580.86 │ GBP      │ North Mariabury   │ Heard Island and McDonald Islands │ Olson PLC                   │ online_transfer │ 139.157.127.94  │ DISCOUNT10  │ d8e0f15d-d7a6-496f-8020-7118878917e2 │\n",
      "│ 397a1968-c8b6-456b-95d0-8778e182bc7b │ ebender        │ 2025-09-10 14:09:12.29779+00  │ 649.49 │ USD      │ Lopezville        │ Liberia                           │ Williams-Byrd               │ debit_card      │ 106.46.156.167  │             │ 65c4610f-9b40-44e6-82f8-f1685dbc0cd0 │\n",
      "│ 63fa3e15-1070-4a15-a691-417a459075ff │ connerandrew   │ 2025-09-10 14:09:12.848424+00 │ 980.21 │ USD      │ Meyertown         │ Timor-Leste                       │ Bolton, Miller and Bryant   │ credit_card     │ 21.173.32.91    │ DISCOUNT10  │ 82107694-20d3-4983-bf83-1e22a7fe2395 │\n",
      "│                  ·                   │      ·         │               ·               │    ·   │  ·       │     ·             │  ·                                │             ·               │      ·          │      ·          │     ·       │                  ·                   │\n",
      "│                  ·                   │      ·         │               ·               │    ·   │  ·       │     ·             │  ·                                │             ·               │      ·          │      ·          │     ·       │                  ·                   │\n",
      "│                  ·                   │      ·         │               ·               │    ·   │  ·       │     ·             │  ·                                │             ·               │      ·          │      ·          │     ·       │                  ·                   │\n",
      "│ 0f95c1d5-17c2-459d-9fe3-8f859352bec2 │ grahamkimberly │ 2025-09-10 14:07:16.187906+00 │  39.92 │ GBP      │ West Jessicaton   │ Peru                              │ Moss, Williamson and Wise   │ online_transfer │ 11.25.70.223    │             │ 59a07d2d-2ca5-4dc6-a651-3fce61ebaa58 │\n",
      "│ 3bd92c1d-bb61-4c9e-a6e8-c0e2917dabb6 │ monicabooker   │ 2025-09-10 14:07:16.427611+00 │ 286.63 │ GBP      │ East Mariashire   │ Finland                           │ Woodard Group               │ credit_card     │ 108.27.151.165  │             │ 5c4f7719-c19f-431c-917f-4c8dd5c364a6 │\n",
      "│ 57c9dc2e-e89b-4e12-8101-02122cdd9d45 │ hpatterson     │ 2025-09-10 14:07:17.344155+00 │ 500.02 │ USD      │ Port Tracyberg    │ India                             │ Rodriguez, Ball and King    │ credit_card     │ 35.46.247.126   │             │ d0965e4a-f81f-4697-b1b1-bab455f54183 │\n",
      "│ 9e10186c-06a6-4c27-b2cc-773b0863f219 │ sdaniels       │ 2025-09-10 14:07:18.016434+00 │  62.87 │ USD      │ Lake Tylerborough │ Egypt                             │ Martinez-Gibson             │ debit_card      │ 135.234.185.185 │             │ 9b099512-091e-472d-9abe-f9794be94472 │\n",
      "│ fc037bde-3399-4db5-a407-e870568b5529 │ tparsons       │ 2025-09-10 14:07:18.185942+00 │ 828.68 │ GBP      │ South Paulview    │ Ghana                             │ Nicholson, Chan and Ballard │ debit_card      │ 145.68.141.209  │ DISCOUNT10  │ 577a1370-da0d-4c8e-a311-2273b00854c2 │\n",
      "│ c33b52e7-a01f-47c7-a631-cc69b125c517 │ andreablair    │ 2025-09-10 14:07:19.14759+00  │ 754.13 │ GBP      │ Lake Trevor       │ Philippines                       │ Chan-Rodriguez              │ online_transfer │ 130.35.70.48    │             │ d181516a-b7f6-4183-8690-4b80f70978cb │\n",
      "│ db82b123-267e-4167-9c11-12c7fe4c1034 │ jeremy87       │ 2025-09-10 14:07:19.826012+00 │ 332.61 │ USD      │ Sheilafurt        │ Norway                            │ Smith, Brown and Thompson   │ online_transfer │ 138.243.34.122  │             │ 96dd1842-9a76-4c3b-b49f-9c7c67ad399f │\n",
      "│ 80130aa7-e88e-455b-8af4-0142f6a54764 │ rebekah36      │ 2025-09-10 14:07:20.496162+00 │ 704.13 │ GBP      │ Rodriguezstad     │ Argentina                         │ Mcgee Ltd                   │ online_transfer │ 196.219.188.204 │             │ 3a7f6f52-8b08-41a3-a024-c8d31c0e9236 │\n",
      "│ d512c7a5-5da8-451d-91be-03baa597a9a5 │ rjohnson       │ 2025-09-10 14:07:21.176865+00 │  565.0 │ GBP      │ East Chadhaven    │ Mexico                            │ Johns, Reyes and Knight     │ credit_card     │ 210.105.113.229 │ DISCOUNT10  │ deb2f210-9337-497d-b9b5-ba4d35565bda │\n",
      "│ de62d664-def5-4fc9-a122-39c8e1819eab │ xgibson        │ 2025-09-10 14:07:21.70943+00  │  92.06 │ GBP      │ Chadland          │ Moldova                           │ Spencer LLC                 │ debit_card      │ 56.227.206.168  │             │ 4d630209-0ece-4c4a-829c-9d267873a4a1 │\n",
      "├──────────────────────────────────────┴────────────────┴───────────────────────────────┴────────┴──────────┴───────────────────┴───────────────────────────────────┴─────────────────────────────┴─────────────────┴─────────────────┴─────────────┴──────────────────────────────────────┤\n",
      "│ 200 rows (20 shown)                                                                                                                                                                                                                                                           12 columns │\n",
      "└──────────────────────────────────────────────────────────────────────────────────────────────────────────────────────────────────────────────────────────────────────────────────────────────────────────────────────────────────────────────────────────────────────────────────────────┘\n",
      "\n"
     ]
    }
   ],
   "source": [
    "duckdb.sql(\"SELECT * FROM my_datalake.banking.source_transactions\").show()"
   ]
  },
  {
   "cell_type": "markdown",
   "metadata": {},
   "source": [
    "### 1. Total transaction volume per currency\n",
    "\n",
    "This query helps you see how much money is flowing in each currency. It counts the number of transactions, the total sum of amounts, and the average transaction size for each currency."
   ]
  },
  {
   "cell_type": "code",
   "execution_count": 8,
   "metadata": {},
   "outputs": [
    {
     "data": {
      "text/plain": [
       "┌──────────┬────────────────────┬──────────────┬───────────────────┐\n",
       "│ currency │ total_transactions │ total_amount │    avg_amount     │\n",
       "│ varchar  │       int64        │    double    │      double       │\n",
       "├──────────┼────────────────────┼──────────────┼───────────────────┤\n",
       "│ GBP      │                371 │    192231.63 │ 518.1445552560647 │\n",
       "│ USD      │                379 │    187141.52 │ 493.7770976253298 │\n",
       "└──────────┴────────────────────┴──────────────┴───────────────────┘"
      ]
     },
     "execution_count": 8,
     "metadata": {},
     "output_type": "execute_result"
    }
   ],
   "source": [
    "duckdb.sql(\"\"\"\n",
    "    SELECT \n",
    "        currency, \n",
    "        COUNT(*) AS total_transactions, \n",
    "        SUM(amount) AS total_amount, \n",
    "        AVG(amount) AS avg_amount\n",
    "    FROM my_datalake.banking.source_transactions\n",
    "    GROUP BY currency\n",
    "    ORDER BY total_amount DESC;\n",
    "\"\"\")\n"
   ]
  },
  {
   "cell_type": "markdown",
   "metadata": {},
   "source": [
    "### 2. Top 10 merchants by total transaction amount\n",
    "\n",
    "This query identifies which merchants generated the most revenue. It sums up the transaction amounts per merchant and also counts how many transactions each merchant had."
   ]
  },
  {
   "cell_type": "code",
   "execution_count": 10,
   "metadata": {},
   "outputs": [
    {
     "data": {
      "text/plain": [
       "┌───────────────┬─────────────┬───────────────────┐\n",
       "│ merchantName  │ total_sales │ transaction_count │\n",
       "│    varchar    │   double    │       int64       │\n",
       "├───────────────┼─────────────┼───────────────────┤\n",
       "│ Nguyen PLC    │     2508.52 │                 3 │\n",
       "│ Hill PLC      │     1754.41 │                 3 │\n",
       "│ Reyes LLC     │     1564.77 │                 2 │\n",
       "│ Jenkins PLC   │     1552.13 │                 2 │\n",
       "│ Williams Inc  │     1289.28 │                 2 │\n",
       "│ Henderson Inc │     1276.77 │                 2 │\n",
       "│ Martinez PLC  │     1233.47 │                 2 │\n",
       "│ Johnson Group │     1187.78 │                 2 │\n",
       "│ Wilson Group  │      1011.5 │                 2 │\n",
       "│ Harris Group  │     1008.46 │                 2 │\n",
       "├───────────────┴─────────────┴───────────────────┤\n",
       "│ 10 rows                               3 columns │\n",
       "└─────────────────────────────────────────────────┘"
      ]
     },
     "execution_count": 10,
     "metadata": {},
     "output_type": "execute_result"
    }
   ],
   "source": [
    "duckdb.sql(\"\"\"\n",
    "SELECT \n",
    "    merchantName, \n",
    "    SUM(amount) AS total_sales, \n",
    "    COUNT(*) AS transaction_count\n",
    "FROM my_datalake.banking.source_transactions\n",
    "GROUP BY merchantName\n",
    "ORDER BY total_sales DESC\n",
    "LIMIT 10;\n",
    "\n",
    "\"\"\")\n"
   ]
  },
  {
   "cell_type": "markdown",
   "metadata": {},
   "source": [
    "### 3. Transactions distribution by payment method\n",
    "\n",
    "This query shows how transactions are split between different payment methods (credit card, debit card, online transfer). It also calculates the percentage share of each method in the total dataset."
   ]
  },
  {
   "cell_type": "code",
   "execution_count": 11,
   "metadata": {},
   "outputs": [
    {
     "data": {
      "text/plain": [
       "┌─────────────────┬────────────────────┬────────────┐\n",
       "│  paymentMethod  │ total_transactions │ percentage │\n",
       "│     varchar     │       int64        │   double   │\n",
       "├─────────────────┼────────────────────┼────────────┤\n",
       "│ online_transfer │                351 │       35.1 │\n",
       "│ credit_card     │                327 │       32.7 │\n",
       "│ debit_card      │                322 │       32.2 │\n",
       "└─────────────────┴────────────────────┴────────────┘"
      ]
     },
     "execution_count": 11,
     "metadata": {},
     "output_type": "execute_result"
    }
   ],
   "source": [
    "duckdb.sql(\"\"\"\n",
    "SELECT \n",
    "    paymentMethod, \n",
    "    COUNT(*) AS total_transactions, \n",
    "    ROUND(100.0 * COUNT(*) / SUM(COUNT(*)) OVER (), 2) AS percentage\n",
    "FROM my_datalake.banking.source_transactions\n",
    "GROUP BY paymentMethod\n",
    "ORDER BY total_transactions DESC;\n",
    "\"\"\")"
   ]
  },
  {
   "cell_type": "markdown",
   "metadata": {},
   "source": [
    "### 4. Daily transaction trend\n",
    "\n",
    "This query aggregates transactions by day. It shows the daily count of transactions and the total transaction amount. Useful for time-series analysis and spotting peaks or drops in activity."
   ]
  },
  {
   "cell_type": "code",
   "execution_count": 12,
   "metadata": {},
   "outputs": [
    {
     "data": {
      "text/plain": [
       "┌──────────────────────────┬──────────────┬──────────────┐\n",
       "│           day            │ transactions │ total_amount │\n",
       "│ timestamp with time zone │    int64     │    double    │\n",
       "├──────────────────────────┼──────────────┼──────────────┤\n",
       "│ 2025-09-10 00:00:00+00   │         1000 │    514084.46 │\n",
       "└──────────────────────────┴──────────────┴──────────────┘"
      ]
     },
     "execution_count": 12,
     "metadata": {},
     "output_type": "execute_result"
    }
   ],
   "source": [
    "duckdb.sql(\"\"\"\n",
    "SELECT \n",
    "    DATE_TRUNC('day', timestamp) AS day, \n",
    "    COUNT(*) AS transactions, \n",
    "    SUM(amount) AS total_amount\n",
    "FROM my_datalake.banking.source_transactions\n",
    "GROUP BY day\n",
    "ORDER BY day;\n",
    "\n",
    "\"\"\")"
   ]
  },
  {
   "cell_type": "markdown",
   "metadata": {},
   "source": [
    "### 5. Fraud-style detection: unusually high transactions\n",
    "\n",
    "This query filters transactions above a certain threshold (here, amount > 900). It lists suspiciously high-value transactions for further investigation."
   ]
  },
  {
   "cell_type": "code",
   "execution_count": 13,
   "metadata": {},
   "outputs": [
    {
     "data": {
      "text/plain": [
       "┌──────────────────────────────────────┬────────────────┬────────┬──────────┬───────────────────────────────┬─────────────────┬───────────────────────────────┐\n",
       "│            transactionId             │     userId     │ amount │ currency │         merchantName          │  paymentMethod  │           timestamp           │\n",
       "│               varchar                │    varchar     │ double │ varchar  │            varchar            │     varchar     │   timestamp with time zone    │\n",
       "├──────────────────────────────────────┼────────────────┼────────┼──────────┼───────────────────────────────┼─────────────────┼───────────────────────────────┤\n",
       "│ cf2f5d05-3c8b-4a4e-99b5-aa816a460e31 │ thomaslopez    │ 999.98 │ USD      │ Anderson LLC                  │ credit_card     │ 2025-09-10 14:15:03.42635+00  │\n",
       "│ 97506059-9cb8-4901-9098-62ab5b2a7b65 │ christopher94  │ 999.48 │ USD      │ Smith, Carlson and Sandoval   │ credit_card     │ 2025-09-10 14:15:23.167811+00 │\n",
       "│ d931f890-bba7-46f9-b16a-2dfdcfad75aa │ joanne50       │ 998.81 │ USD      │ Dorsey Inc                    │ debit_card      │ 2025-09-10 14:15:28.695568+00 │\n",
       "│ bb4c35e5-baa0-4e59-9165-93cfa8c75173 │ ngibson        │ 998.77 │ USD      │ Watts-Martinez                │ online_transfer │ 2025-09-10 14:13:50.567728+00 │\n",
       "│ c23c7604-57ab-4a48-af72-706ce399bef4 │ tonyahall      │ 995.22 │ USD      │ Johnson, Wallace and Garcia   │ credit_card     │ 2025-09-10 14:14:20.240521+00 │\n",
       "│ 6da2647b-3bcb-4add-8b6f-6deda25cdc87 │ bradleydavid   │ 995.11 │ USD      │ Duarte LLC                    │ credit_card     │ 2025-09-10 14:08:41.69285+00  │\n",
       "│ 87fda341-c287-488d-afd3-b1001279d116 │ rivaskatherine │ 995.02 │ GBP      │ Hensley, Johnson and Schaefer │ online_transfer │ 2025-09-10 14:14:54.017038+00 │\n",
       "│ b407add3-2e65-4888-a127-9f726679d71d │ aliciahoward   │ 994.75 │ USD      │ Brady, Dean and Martinez      │ debit_card      │ 2025-09-10 14:12:48.75682+00  │\n",
       "│ e0c98de9-f907-4cd8-abad-474b252368ba │ conwayjeffrey  │  992.5 │ GBP      │ Grimes Group                  │ credit_card     │ 2025-09-10 14:08:17.236881+00 │\n",
       "│ aa1c7f8d-35c6-4ef1-98c4-06ffa47474f1 │ meganjones     │  992.0 │ GBP      │ Koch, Miller and Grimes       │ online_transfer │ 2025-09-10 14:10:48.561394+00 │\n",
       "│                  ·                   │   ·            │    ·   │  ·       │            ·                  │        ·        │               ·               │\n",
       "│                  ·                   │   ·            │    ·   │  ·       │            ·                  │        ·        │               ·               │\n",
       "│                  ·                   │   ·            │    ·   │  ·       │            ·                  │        ·        │               ·               │\n",
       "│ 503f55b5-8fd2-4f3b-a8e1-1f5a3f0112fd │ mmoore         │ 906.48 │ USD      │ Graves, Alvarez and Smith     │ online_transfer │ 2025-09-10 14:10:07.984084+00 │\n",
       "│ 2cb50c05-7e53-4f3f-9fe2-c19232963f27 │ marshnancy     │ 906.09 │ GBP      │ Flowers-Carr                  │ credit_card     │ 2025-09-10 14:14:38.791465+00 │\n",
       "│ 40753a7d-dece-4582-adda-139844b9a69a │ samantha82     │ 905.66 │ USD      │ Scott-Garcia                  │ online_transfer │ 2025-09-10 14:12:17.830055+00 │\n",
       "│ 007f76f8-8edf-4e27-a232-27391ce805e8 │ zachary21      │ 905.33 │ GBP      │ Rich, Contreras and Mack      │ debit_card      │ 2025-09-10 14:10:20.015669+00 │\n",
       "│ 35cbdfb1-0f94-48e2-a8f9-60c2f6776255 │ amanda52       │ 905.04 │ GBP      │ Velasquez PLC                 │ credit_card     │ 2025-09-10 14:15:25.932779+00 │\n",
       "│ b42f5a3c-198f-46dd-817f-2d1cce743a62 │ jacob29        │ 904.73 │ USD      │ Williams, Michael and Kelley  │ credit_card     │ 2025-09-10 14:08:31.113634+00 │\n",
       "│ 75122915-9680-43e5-9589-759611d3ddb6 │ jerry08        │ 903.39 │ GBP      │ Rodriguez-Martin              │ debit_card      │ 2025-09-10 14:07:46.927732+00 │\n",
       "│ e91c6662-7326-44a5-8886-5ea5748ab757 │ kelly53        │ 903.18 │ USD      │ Moran-Chen                    │ debit_card      │ 2025-09-10 14:10:47.851839+00 │\n",
       "│ decc0cc5-c027-4b9d-b72a-3d170f9f5371 │ mbaird         │ 902.81 │ GBP      │ Park, Green and Burns         │ credit_card     │ 2025-09-10 14:14:32.641834+00 │\n",
       "│ a81d162f-a592-4858-9610-82efb10dd454 │ caitlinquinn   │ 900.28 │ GBP      │ Spencer PLC                   │ credit_card     │ 2025-09-10 14:08:21.52596+00  │\n",
       "├──────────────────────────────────────┴────────────────┴────────┴──────────┴───────────────────────────────┴─────────────────┴───────────────────────────────┤\n",
       "│ 108 rows (20 shown)                                                                                                                               7 columns │\n",
       "└─────────────────────────────────────────────────────────────────────────────────────────────────────────────────────────────────────────────────────────────┘"
      ]
     },
     "execution_count": 13,
     "metadata": {},
     "output_type": "execute_result"
    }
   ],
   "source": [
    "duckdb.sql(\"\"\"\n",
    "SELECT \n",
    "    transactionId, \n",
    "    userId, \n",
    "    amount, \n",
    "    currency, \n",
    "    merchantName, \n",
    "    paymentMethod, \n",
    "    timestamp\n",
    "FROM my_datalake.banking.source_transactions\n",
    "WHERE amount > 900\n",
    "ORDER BY amount DESC;\n",
    "    \n",
    "\"\"\")"
   ]
  },
  {
   "cell_type": "markdown",
   "metadata": {},
   "source": [
    "### 6.Rank users by total spending\n",
    "\n",
    "This query finds the top spenders per country by ranking users based on how much they’ve spent."
   ]
  },
  {
   "cell_type": "code",
   "execution_count": 14,
   "metadata": {},
   "outputs": [
    {
     "data": {
      "text/plain": [
       "┌────────────────┬─────────────┬─────────────┬───────────────┐\n",
       "│     userId     │   country   │ total_spent │ spending_rank │\n",
       "│    varchar     │   varchar   │   double    │     int64     │\n",
       "├────────────────┼─────────────┼─────────────┼───────────────┤\n",
       "│ aliciahoward   │ Afghanistan │      994.75 │             1 │\n",
       "│ gschultz       │ Afghanistan │      848.11 │             2 │\n",
       "│ clarksusan     │ Afghanistan │      744.16 │             3 │\n",
       "│ nblanchard     │ Albania     │      912.56 │             1 │\n",
       "│ ccollins       │ Albania     │      566.67 │             2 │\n",
       "│ apage          │ Albania     │      560.87 │             3 │\n",
       "│ johnsonjoshua  │ Albania     │      547.79 │             4 │\n",
       "│ sara69         │ Algeria     │       850.1 │             1 │\n",
       "│ raymond42      │ Algeria     │      729.84 │             2 │\n",
       "│ kleinjennifer  │ Algeria     │      581.17 │             3 │\n",
       "│      ·         │   ·         │         ·   │             · │\n",
       "│      ·         │   ·         │         ·   │             · │\n",
       "│      ·         │   ·         │         ·   │             · │\n",
       "│ birdbrianna    │ Zambia      │      707.96 │             3 │\n",
       "│ sullivankevin  │ Zambia      │      425.59 │             4 │\n",
       "│ rivaskatherine │ Zimbabwe    │      995.02 │             1 │\n",
       "│ mcmillancory   │ Zimbabwe    │       964.9 │             2 │\n",
       "│ gary17         │ Zimbabwe    │      956.64 │             3 │\n",
       "│ lozanomichael  │ Zimbabwe    │      934.14 │             4 │\n",
       "│ lisaray        │ Zimbabwe    │      604.29 │             5 │\n",
       "│ uhoffman       │ Zimbabwe    │      431.65 │             6 │\n",
       "│ stephanie72    │ Zimbabwe    │      385.22 │             7 │\n",
       "│ kramirez       │ Zimbabwe    │      115.62 │             8 │\n",
       "├────────────────┴─────────────┴─────────────┴───────────────┤\n",
       "│ 1000 rows (20 shown)                             4 columns │\n",
       "└────────────────────────────────────────────────────────────┘"
      ]
     },
     "execution_count": 14,
     "metadata": {},
     "output_type": "execute_result"
    }
   ],
   "source": [
    "duckdb.sql(\"\"\"\n",
    "SELECT \n",
    "    userId,\n",
    "    country,\n",
    "    SUM(amount) AS total_spent,\n",
    "    RANK() OVER (PARTITION BY country ORDER BY SUM(amount) DESC) AS spending_rank\n",
    "FROM my_datalake.banking.source_transactions\n",
    "GROUP BY userId, country\n",
    "ORDER BY country, spending_rank;\n",
    "\"\"\")\n"
   ]
  },
  {
   "cell_type": "markdown",
   "metadata": {},
   "source": [
    "### 7.Running total of transactions per day\n",
    "\n",
    "This query shows how transaction amounts accumulate over time (a running total trend)."
   ]
  },
  {
   "cell_type": "code",
   "execution_count": 19,
   "metadata": {},
   "outputs": [
    {
     "data": {
      "text/plain": [
       "┌───────────────────────────────┬────────┬────────────────────┐\n",
       "│           timestamp           │ amount │   running_total    │\n",
       "│   timestamp with time zone    │ double │       double       │\n",
       "├───────────────────────────────┼────────┼────────────────────┤\n",
       "│ 2025-09-10 14:07:16.187906+00 │  39.92 │              39.92 │\n",
       "│ 2025-09-10 14:07:16.427611+00 │ 286.63 │             326.55 │\n",
       "│ 2025-09-10 14:07:17.344155+00 │ 500.02 │  826.5699999999999 │\n",
       "│ 2025-09-10 14:07:18.016434+00 │  62.87 │  889.4399999999999 │\n",
       "│ 2025-09-10 14:07:18.185942+00 │ 828.68 │            1718.12 │\n",
       "│ 2025-09-10 14:07:19.14759+00  │ 754.13 │            2472.25 │\n",
       "│ 2025-09-10 14:07:19.826012+00 │ 332.61 │            2804.86 │\n",
       "│ 2025-09-10 14:07:20.496162+00 │ 704.13 │ 3508.9900000000002 │\n",
       "│ 2025-09-10 14:07:21.176865+00 │  565.0 │ 4073.9900000000002 │\n",
       "│ 2025-09-10 14:07:21.70943+00  │  92.06 │            4166.05 │\n",
       "│              ·                │    ·   │               ·    │\n",
       "│              ·                │    ·   │               ·    │\n",
       "│              ·                │    ·   │               ·    │\n",
       "│ 2025-09-10 14:16:43.848456+00 │ 137.08 │  509550.1499999999 │\n",
       "│ 2025-09-10 14:16:44.622756+00 │ 949.32 │  510499.4699999999 │\n",
       "│ 2025-09-10 14:16:45.486008+00 │  20.37 │  510519.8399999999 │\n",
       "│ 2025-09-10 14:16:45.847363+00 │ 961.99 │  511481.8299999999 │\n",
       "│ 2025-09-10 14:16:46.095581+00 │ 160.35 │  511642.1799999999 │\n",
       "│ 2025-09-10 14:16:46.319466+00 │ 916.14 │  512558.3199999999 │\n",
       "│ 2025-09-10 14:16:47.029151+00 │ 267.35 │ 512825.66999999987 │\n",
       "│ 2025-09-10 14:16:47.429632+00 │ 561.82 │  513387.4899999999 │\n",
       "│ 2025-09-10 14:16:47.736242+00 │ 103.62 │ 513491.10999999987 │\n",
       "│ 2025-09-10 14:16:48.446638+00 │ 593.35 │ 514084.45999999985 │\n",
       "├───────────────────────────────┴────────┴────────────────────┤\n",
       "│ 1000 rows (20 shown)                              3 columns │\n",
       "└─────────────────────────────────────────────────────────────┘"
      ]
     },
     "execution_count": 19,
     "metadata": {},
     "output_type": "execute_result"
    }
   ],
   "source": [
    "duckdb.sql(\"\"\"\n",
    "SELECT \n",
    "    timestamp,\n",
    "    amount,\n",
    "    SUM(amount) OVER (ORDER BY timestamp ROWS BETWEEN UNBOUNDED PRECEDING AND CURRENT ROW) AS running_total\n",
    "FROM my_datalake.banking.source_transactions\n",
    "ORDER BY 1;\n",
    "\"\"\")\n"
   ]
  }
 ],
 "metadata": {
  "kernelspec": {
   "display_name": "Python 3 (ipykernel)",
   "language": "python",
   "name": "python3"
  },
  "language_info": {
   "codemirror_mode": {
    "name": "ipython",
    "version": 3
   },
   "file_extension": ".py",
   "mimetype": "text/x-python",
   "name": "python",
   "nbconvert_exporter": "python",
   "pygments_lexer": "ipython3",
   "version": "3.12.11"
  }
 },
 "nbformat": 4,
 "nbformat_minor": 4
}
