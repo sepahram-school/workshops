{
 "cells": [
  {
   "cell_type": "code",
   "execution_count": 1,
   "metadata": {},
   "outputs": [],
   "source": [
    "import pyspark\n",
    "from pyspark.conf import SparkConf\n",
    "from pyspark.sql import SparkSession\n",
    "import pandas as pd\n",
    "\n",
    "# This CATALOG_URL works for the \"docker compose\" testing and development environment\n",
    "# Change 'lakekeeper' if you are not running on \"docker compose\" (f. ex. 'localhost' if Lakekeeper is running locally).\n",
    "CATALOG_URL = \"http://lakekeeper:8181/catalog\"\n",
    "WAREHOUSE = \"sepahram\"\n",
    "\n",
    "SPARK_VERSION = pyspark.__version__\n",
    "SPARK_MINOR_VERSION = '.'.join(SPARK_VERSION.split('.')[:2])\n",
    "ICEBERG_VERSION = \"1.9.2\""
   ]
  },
  {
   "cell_type": "code",
   "execution_count": 2,
   "metadata": {},
   "outputs": [
    {
     "data": {
      "text/plain": [
       "'1.9.2'"
      ]
     },
     "execution_count": 2,
     "metadata": {},
     "output_type": "execute_result"
    }
   ],
   "source": [
    "ICEBERG_VERSION"
   ]
  },
  {
   "cell_type": "code",
   "execution_count": 3,
   "metadata": {},
   "outputs": [
    {
     "data": {
      "text/plain": [
       "'3.5.6'"
      ]
     },
     "execution_count": 3,
     "metadata": {},
     "output_type": "execute_result"
    }
   ],
   "source": [
    "SPARK_VERSION\n"
   ]
  },
  {
   "cell_type": "code",
   "execution_count": 4,
   "metadata": {},
   "outputs": [
    {
     "data": {
      "text/plain": [
       "'3.5'"
      ]
     },
     "execution_count": 4,
     "metadata": {},
     "output_type": "execute_result"
    }
   ],
   "source": [
    "SPARK_MINOR_VERSION"
   ]
  },
  {
   "cell_type": "markdown",
   "metadata": {},
   "source": [
    "# Connect with Spark"
   ]
  },
  {
   "cell_type": "code",
   "execution_count": 5,
   "metadata": {},
   "outputs": [],
   "source": [
    "# Bring in runtime + all bundles (AWS, Azure, GCP) so Lakekeeper can decide\n",
    "HADOOP_VERSION = \"3.4.2\"   \n",
    "\n",
    "spark_jars_packages = (\n",
    "    f\"org.apache.iceberg:iceberg-spark-runtime-{SPARK_MINOR_VERSION}_2.12:{ICEBERG_VERSION},\"\n",
    "    f\"org.apache.iceberg:iceberg-aws-bundle:{ICEBERG_VERSION},\"\n",
    "    f\"org.apache.hadoop:hadoop-aws:{HADOOP_VERSION},\"\n",
    "    f\"com.amazonaws:aws-java-sdk-bundle:1.12.698\"\n",
    ")\n",
    "\n",
    "config = {\n",
    "\n",
    "    f\"spark.sql.catalog.lakekeeper\": \"org.apache.iceberg.spark.SparkCatalog\",\n",
    "    f\"spark.sql.catalog.lakekeeper.type\": \"rest\",\n",
    "    f\"spark.sql.catalog.lakekeeper.uri\": CATALOG_URL,\n",
    "    f\"spark.sql.catalog.lakekeeper.warehouse\": WAREHOUSE,\n",
    "    \"spark.sql.defaultCatalog\": \"lakekeeper\",\n",
    "}\n",
    "    # \"spark.jars.packages\": spark_jars_packages,\n",
    "    # we already downloaded the required jars in the spark Dockerfile "
   ]
  },
  {
   "cell_type": "code",
   "execution_count": 8,
   "metadata": {},
   "outputs": [
    {
     "name": "stderr",
     "output_type": "stream",
     "text": [
      "25/09/10 15:44:03 WARN SparkContext: Another SparkContext is being constructed (or threw an exception in its constructor). This may indicate an error, since only one SparkContext should be running in this JVM (see SPARK-2243). The other SparkContext was created at:\n",
      "org.apache.spark.api.java.JavaSparkContext.<init>(JavaSparkContext.scala:58)\n",
      "java.base/jdk.internal.reflect.NativeConstructorAccessorImpl.newInstance0(Native Method)\n",
      "java.base/jdk.internal.reflect.NativeConstructorAccessorImpl.newInstance(Unknown Source)\n",
      "java.base/jdk.internal.reflect.DelegatingConstructorAccessorImpl.newInstance(Unknown Source)\n",
      "java.base/java.lang.reflect.Constructor.newInstanceWithCaller(Unknown Source)\n",
      "java.base/java.lang.reflect.Constructor.newInstance(Unknown Source)\n",
      "py4j.reflection.MethodInvoker.invoke(MethodInvoker.java:247)\n",
      "py4j.reflection.ReflectionEngine.invoke(ReflectionEngine.java:374)\n",
      "py4j.Gateway.invoke(Gateway.java:238)\n",
      "py4j.commands.ConstructorCommand.invokeConstructor(ConstructorCommand.java:80)\n",
      "py4j.commands.ConstructorCommand.execute(ConstructorCommand.java:69)\n",
      "py4j.ClientServerConnection.waitForCommands(ClientServerConnection.java:182)\n",
      "py4j.ClientServerConnection.run(ClientServerConnection.java:106)\n",
      "java.base/java.lang.Thread.run(Unknown Source)\n"
     ]
    },
    {
     "data": {
      "text/plain": [
       "DataFrame[]"
      ]
     },
     "execution_count": 8,
     "metadata": {},
     "output_type": "execute_result"
    }
   ],
   "source": [
    "spark_config = SparkConf().setMaster('local[*]').setAppName(\"Iceberg-REST-Cluster\")\n",
    "for k, v in config.items():\n",
    "    spark_config = spark_config.set(k, v)\n",
    "\n",
    "spark = SparkSession.builder.config(conf=spark_config).getOrCreate()\n",
    "\n",
    "spark.sql(\"USE lakekeeper\")"
   ]
  },
  {
   "cell_type": "markdown",
   "metadata": {},
   "source": [
    "## Read and Write Tables"
   ]
  },
  {
   "cell_type": "code",
   "execution_count": null,
   "metadata": {},
   "outputs": [],
   "source": [
    "# spark.sql(f\"CREATE NAMESPACE IF NOT EXISTS spark_namespace\")\n",
    "spark.sql(\"SHOW NAMESPACES\").toPandas()"
   ]
  },
  {
   "cell_type": "code",
   "execution_count": null,
   "metadata": {},
   "outputs": [],
   "source": [
    "data = pd.DataFrame([[1, 'a-string', 2.2]], columns=['id', 'strings', 'floats'])\n",
    "# sdf = spark.createDataFrame(data)\n",
    "# sdf.writeTo(f\"spark_namespace.cluster_table\").createOrReplace()"
   ]
  },
  {
   "cell_type": "code",
   "execution_count": 9,
   "metadata": {},
   "outputs": [
    {
     "name": "stderr",
     "output_type": "stream",
     "text": [
      "SLF4J: Failed to load class \"org.slf4j.impl.StaticLoggerBinder\".\n",
      "SLF4J: Defaulting to no-operation (NOP) logger implementation\n",
      "SLF4J: See http://www.slf4j.org/codes.html#StaticLoggerBinder for further details.\n",
      "                                                                                "
     ]
    },
    {
     "data": {
      "text/html": [
       "<div>\n",
       "<style scoped>\n",
       "    .dataframe tbody tr th:only-of-type {\n",
       "        vertical-align: middle;\n",
       "    }\n",
       "\n",
       "    .dataframe tbody tr th {\n",
       "        vertical-align: top;\n",
       "    }\n",
       "\n",
       "    .dataframe thead th {\n",
       "        text-align: right;\n",
       "    }\n",
       "</style>\n",
       "<table border=\"1\" class=\"dataframe\">\n",
       "  <thead>\n",
       "    <tr style=\"text-align: right;\">\n",
       "      <th></th>\n",
       "      <th>transactionId</th>\n",
       "      <th>userId</th>\n",
       "      <th>timestamp</th>\n",
       "      <th>amount</th>\n",
       "      <th>currency</th>\n",
       "      <th>city</th>\n",
       "      <th>country</th>\n",
       "      <th>merchantName</th>\n",
       "      <th>paymentMethod</th>\n",
       "      <th>ipAddress</th>\n",
       "      <th>voucherCode</th>\n",
       "      <th>affiliateId</th>\n",
       "    </tr>\n",
       "  </thead>\n",
       "  <tbody>\n",
       "    <tr>\n",
       "      <th>0</th>\n",
       "      <td>c95abc35-707a-4f40-8e10-720d93831b2d</td>\n",
       "      <td>garrettglenn</td>\n",
       "      <td>2025-09-10 14:15:23.588611</td>\n",
       "      <td>659.45</td>\n",
       "      <td>USD</td>\n",
       "      <td>North Emilyport</td>\n",
       "      <td>Nicaragua</td>\n",
       "      <td>Bates-Hoffman</td>\n",
       "      <td>online_transfer</td>\n",
       "      <td>104.229.233.98</td>\n",
       "      <td></td>\n",
       "      <td>03888a74-8ef8-4b1a-b4b5-c4ce2f4ad32c</td>\n",
       "    </tr>\n",
       "    <tr>\n",
       "      <th>1</th>\n",
       "      <td>338c4e2b-d069-4301-aa27-7137a70fa0a1</td>\n",
       "      <td>alvarezdaniel</td>\n",
       "      <td>2025-09-10 14:15:24.235241</td>\n",
       "      <td>27.43</td>\n",
       "      <td>GBP</td>\n",
       "      <td>East Nicholaschester</td>\n",
       "      <td>Uruguay</td>\n",
       "      <td>Nichols-Schmidt</td>\n",
       "      <td>online_transfer</td>\n",
       "      <td>160.159.181.20</td>\n",
       "      <td>DISCOUNT10</td>\n",
       "      <td>0de178f0-a709-4e76-82bb-36b401daad96</td>\n",
       "    </tr>\n",
       "    <tr>\n",
       "      <th>2</th>\n",
       "      <td>7f997c27-4ddd-4ec5-b37a-8df62a181528</td>\n",
       "      <td>madeline98</td>\n",
       "      <td>2025-09-10 14:15:25.088741</td>\n",
       "      <td>863.54</td>\n",
       "      <td>GBP</td>\n",
       "      <td>South Williamhaven</td>\n",
       "      <td>Finland</td>\n",
       "      <td>Velez-King</td>\n",
       "      <td>credit_card</td>\n",
       "      <td>42.16.204.243</td>\n",
       "      <td>DISCOUNT10</td>\n",
       "      <td>1a890798-eb4d-44ed-a2d9-49b648755370</td>\n",
       "    </tr>\n",
       "    <tr>\n",
       "      <th>3</th>\n",
       "      <td>35cbdfb1-0f94-48e2-a8f9-60c2f6776255</td>\n",
       "      <td>amanda52</td>\n",
       "      <td>2025-09-10 14:15:25.932779</td>\n",
       "      <td>905.04</td>\n",
       "      <td>GBP</td>\n",
       "      <td>Port Meganburgh</td>\n",
       "      <td>Botswana</td>\n",
       "      <td>Velasquez PLC</td>\n",
       "      <td>credit_card</td>\n",
       "      <td>185.109.30.22</td>\n",
       "      <td></td>\n",
       "      <td>f4a9e070-337e-4a88-8c80-4ab54a266c83</td>\n",
       "    </tr>\n",
       "    <tr>\n",
       "      <th>4</th>\n",
       "      <td>2bff4afc-95b1-4d39-ab43-d61e9a197c42</td>\n",
       "      <td>ugardner</td>\n",
       "      <td>2025-09-10 14:15:26.451489</td>\n",
       "      <td>304.14</td>\n",
       "      <td>GBP</td>\n",
       "      <td>Yangfort</td>\n",
       "      <td>Malta</td>\n",
       "      <td>Shah-Ruiz</td>\n",
       "      <td>online_transfer</td>\n",
       "      <td>59.90.182.58</td>\n",
       "      <td>DISCOUNT10</td>\n",
       "      <td>a8291a3f-bb59-4319-b0ac-aa3566afe53e</td>\n",
       "    </tr>\n",
       "    <tr>\n",
       "      <th>...</th>\n",
       "      <td>...</td>\n",
       "      <td>...</td>\n",
       "      <td>...</td>\n",
       "      <td>...</td>\n",
       "      <td>...</td>\n",
       "      <td>...</td>\n",
       "      <td>...</td>\n",
       "      <td>...</td>\n",
       "      <td>...</td>\n",
       "      <td>...</td>\n",
       "      <td>...</td>\n",
       "      <td>...</td>\n",
       "    </tr>\n",
       "    <tr>\n",
       "      <th>995</th>\n",
       "      <td>6cbcbd2a-22f0-42f9-951e-c3e8a2ed02cc</td>\n",
       "      <td>wardkatherine</td>\n",
       "      <td>2025-09-10 14:12:56.654949</td>\n",
       "      <td>574.86</td>\n",
       "      <td>USD</td>\n",
       "      <td>Rossland</td>\n",
       "      <td>Taiwan</td>\n",
       "      <td>Phillips-Harrington</td>\n",
       "      <td>credit_card</td>\n",
       "      <td>120.113.87.15</td>\n",
       "      <td></td>\n",
       "      <td>c09de8a0-aa39-4cd3-beb5-527d42c0f8f0</td>\n",
       "    </tr>\n",
       "    <tr>\n",
       "      <th>996</th>\n",
       "      <td>3a0d2561-65ce-453b-9ffe-1c1be2b09e8e</td>\n",
       "      <td>vazquezkatie</td>\n",
       "      <td>2025-09-10 14:12:57.094817</td>\n",
       "      <td>452.81</td>\n",
       "      <td>GBP</td>\n",
       "      <td>Simontown</td>\n",
       "      <td>Haiti</td>\n",
       "      <td>Brown PLC</td>\n",
       "      <td>credit_card</td>\n",
       "      <td>169.4.157.162</td>\n",
       "      <td></td>\n",
       "      <td>d2ef291d-9aff-4e01-baac-68e5b9dcb40b</td>\n",
       "    </tr>\n",
       "    <tr>\n",
       "      <th>997</th>\n",
       "      <td>c8449c01-7c69-4ab4-b587-bb96f1b6b9f3</td>\n",
       "      <td>briannahutchinson</td>\n",
       "      <td>2025-09-10 14:12:57.834892</td>\n",
       "      <td>231.34</td>\n",
       "      <td>GBP</td>\n",
       "      <td>Jeromechester</td>\n",
       "      <td>Chad</td>\n",
       "      <td>Marquez LLC</td>\n",
       "      <td>debit_card</td>\n",
       "      <td>64.63.254.187</td>\n",
       "      <td></td>\n",
       "      <td>679fd474-f9d9-4ba7-9ad5-21350a7c2ae7</td>\n",
       "    </tr>\n",
       "    <tr>\n",
       "      <th>998</th>\n",
       "      <td>bb39cabe-615b-4551-b19a-47e3ad611757</td>\n",
       "      <td>emilygreen</td>\n",
       "      <td>2025-09-10 14:12:58.353552</td>\n",
       "      <td>10.94</td>\n",
       "      <td>GBP</td>\n",
       "      <td>Davisland</td>\n",
       "      <td>Papua New Guinea</td>\n",
       "      <td>Thomas Inc</td>\n",
       "      <td>debit_card</td>\n",
       "      <td>113.181.97.178</td>\n",
       "      <td>DISCOUNT10</td>\n",
       "      <td>4c1078bb-d5f1-44b0-99ac-fc9c4771898a</td>\n",
       "    </tr>\n",
       "    <tr>\n",
       "      <th>999</th>\n",
       "      <td>5bb3a6e7-46c4-4446-a759-debcee638ce6</td>\n",
       "      <td>xhernandez</td>\n",
       "      <td>2025-09-10 14:12:58.586392</td>\n",
       "      <td>878.50</td>\n",
       "      <td>GBP</td>\n",
       "      <td>West Nicholasstad</td>\n",
       "      <td>Slovenia</td>\n",
       "      <td>Black, Shaw and Scott</td>\n",
       "      <td>online_transfer</td>\n",
       "      <td>143.24.74.132</td>\n",
       "      <td>DISCOUNT10</td>\n",
       "      <td>73cf310f-0f06-476b-a7ee-594823358ec3</td>\n",
       "    </tr>\n",
       "  </tbody>\n",
       "</table>\n",
       "<p>1000 rows × 12 columns</p>\n",
       "</div>"
      ],
      "text/plain": [
       "                            transactionId             userId  \\\n",
       "0    c95abc35-707a-4f40-8e10-720d93831b2d       garrettglenn   \n",
       "1    338c4e2b-d069-4301-aa27-7137a70fa0a1      alvarezdaniel   \n",
       "2    7f997c27-4ddd-4ec5-b37a-8df62a181528         madeline98   \n",
       "3    35cbdfb1-0f94-48e2-a8f9-60c2f6776255           amanda52   \n",
       "4    2bff4afc-95b1-4d39-ab43-d61e9a197c42           ugardner   \n",
       "..                                    ...                ...   \n",
       "995  6cbcbd2a-22f0-42f9-951e-c3e8a2ed02cc      wardkatherine   \n",
       "996  3a0d2561-65ce-453b-9ffe-1c1be2b09e8e       vazquezkatie   \n",
       "997  c8449c01-7c69-4ab4-b587-bb96f1b6b9f3  briannahutchinson   \n",
       "998  bb39cabe-615b-4551-b19a-47e3ad611757         emilygreen   \n",
       "999  5bb3a6e7-46c4-4446-a759-debcee638ce6         xhernandez   \n",
       "\n",
       "                     timestamp  amount currency                  city  \\\n",
       "0   2025-09-10 14:15:23.588611  659.45      USD       North Emilyport   \n",
       "1   2025-09-10 14:15:24.235241   27.43      GBP  East Nicholaschester   \n",
       "2   2025-09-10 14:15:25.088741  863.54      GBP    South Williamhaven   \n",
       "3   2025-09-10 14:15:25.932779  905.04      GBP       Port Meganburgh   \n",
       "4   2025-09-10 14:15:26.451489  304.14      GBP              Yangfort   \n",
       "..                         ...     ...      ...                   ...   \n",
       "995 2025-09-10 14:12:56.654949  574.86      USD              Rossland   \n",
       "996 2025-09-10 14:12:57.094817  452.81      GBP             Simontown   \n",
       "997 2025-09-10 14:12:57.834892  231.34      GBP         Jeromechester   \n",
       "998 2025-09-10 14:12:58.353552   10.94      GBP             Davisland   \n",
       "999 2025-09-10 14:12:58.586392  878.50      GBP     West Nicholasstad   \n",
       "\n",
       "              country           merchantName    paymentMethod       ipAddress  \\\n",
       "0           Nicaragua          Bates-Hoffman  online_transfer  104.229.233.98   \n",
       "1             Uruguay        Nichols-Schmidt  online_transfer  160.159.181.20   \n",
       "2             Finland             Velez-King      credit_card   42.16.204.243   \n",
       "3            Botswana          Velasquez PLC      credit_card   185.109.30.22   \n",
       "4               Malta              Shah-Ruiz  online_transfer    59.90.182.58   \n",
       "..                ...                    ...              ...             ...   \n",
       "995            Taiwan    Phillips-Harrington      credit_card   120.113.87.15   \n",
       "996             Haiti              Brown PLC      credit_card   169.4.157.162   \n",
       "997              Chad            Marquez LLC       debit_card   64.63.254.187   \n",
       "998  Papua New Guinea             Thomas Inc       debit_card  113.181.97.178   \n",
       "999          Slovenia  Black, Shaw and Scott  online_transfer   143.24.74.132   \n",
       "\n",
       "    voucherCode                           affiliateId  \n",
       "0                03888a74-8ef8-4b1a-b4b5-c4ce2f4ad32c  \n",
       "1    DISCOUNT10  0de178f0-a709-4e76-82bb-36b401daad96  \n",
       "2    DISCOUNT10  1a890798-eb4d-44ed-a2d9-49b648755370  \n",
       "3                f4a9e070-337e-4a88-8c80-4ab54a266c83  \n",
       "4    DISCOUNT10  a8291a3f-bb59-4319-b0ac-aa3566afe53e  \n",
       "..          ...                                   ...  \n",
       "995              c09de8a0-aa39-4cd3-beb5-527d42c0f8f0  \n",
       "996              d2ef291d-9aff-4e01-baac-68e5b9dcb40b  \n",
       "997              679fd474-f9d9-4ba7-9ad5-21350a7c2ae7  \n",
       "998  DISCOUNT10  4c1078bb-d5f1-44b0-99ac-fc9c4771898a  \n",
       "999  DISCOUNT10  73cf310f-0f06-476b-a7ee-594823358ec3  \n",
       "\n",
       "[1000 rows x 12 columns]"
      ]
     },
     "execution_count": 9,
     "metadata": {},
     "output_type": "execute_result"
    }
   ],
   "source": [
    "spark.sql(f\"SELECT * FROM banking.source_transactions\").toPandas()"
   ]
  },
  {
   "cell_type": "code",
   "execution_count": 11,
   "metadata": {},
   "outputs": [
    {
     "name": "stderr",
     "output_type": "stream",
     "text": [
      "                                                                                "
     ]
    },
    {
     "data": {
      "text/html": [
       "<div>\n",
       "<style scoped>\n",
       "    .dataframe tbody tr th:only-of-type {\n",
       "        vertical-align: middle;\n",
       "    }\n",
       "\n",
       "    .dataframe tbody tr th {\n",
       "        vertical-align: top;\n",
       "    }\n",
       "\n",
       "    .dataframe thead th {\n",
       "        text-align: right;\n",
       "    }\n",
       "</style>\n",
       "<table border=\"1\" class=\"dataframe\">\n",
       "  <thead>\n",
       "    <tr style=\"text-align: right;\">\n",
       "      <th></th>\n",
       "      <th>merchantName</th>\n",
       "      <th>total_sales</th>\n",
       "      <th>transaction_count</th>\n",
       "    </tr>\n",
       "  </thead>\n",
       "  <tbody>\n",
       "    <tr>\n",
       "      <th>0</th>\n",
       "      <td>Nguyen PLC</td>\n",
       "      <td>2508.52</td>\n",
       "      <td>3</td>\n",
       "    </tr>\n",
       "    <tr>\n",
       "      <th>1</th>\n",
       "      <td>Lopez Group</td>\n",
       "      <td>1964.38</td>\n",
       "      <td>3</td>\n",
       "    </tr>\n",
       "    <tr>\n",
       "      <th>2</th>\n",
       "      <td>Hill PLC</td>\n",
       "      <td>1754.41</td>\n",
       "      <td>3</td>\n",
       "    </tr>\n",
       "    <tr>\n",
       "      <th>3</th>\n",
       "      <td>Reyes LLC</td>\n",
       "      <td>1564.77</td>\n",
       "      <td>2</td>\n",
       "    </tr>\n",
       "    <tr>\n",
       "      <th>4</th>\n",
       "      <td>Jenkins PLC</td>\n",
       "      <td>1552.13</td>\n",
       "      <td>2</td>\n",
       "    </tr>\n",
       "    <tr>\n",
       "      <th>5</th>\n",
       "      <td>Harris LLC</td>\n",
       "      <td>1386.27</td>\n",
       "      <td>2</td>\n",
       "    </tr>\n",
       "    <tr>\n",
       "      <th>6</th>\n",
       "      <td>Turner Ltd</td>\n",
       "      <td>1302.92</td>\n",
       "      <td>2</td>\n",
       "    </tr>\n",
       "    <tr>\n",
       "      <th>7</th>\n",
       "      <td>Williams Inc</td>\n",
       "      <td>1289.28</td>\n",
       "      <td>2</td>\n",
       "    </tr>\n",
       "    <tr>\n",
       "      <th>8</th>\n",
       "      <td>Henderson Inc</td>\n",
       "      <td>1276.77</td>\n",
       "      <td>2</td>\n",
       "    </tr>\n",
       "    <tr>\n",
       "      <th>9</th>\n",
       "      <td>Martinez PLC</td>\n",
       "      <td>1233.47</td>\n",
       "      <td>2</td>\n",
       "    </tr>\n",
       "  </tbody>\n",
       "</table>\n",
       "</div>"
      ],
      "text/plain": [
       "    merchantName  total_sales  transaction_count\n",
       "0     Nguyen PLC      2508.52                  3\n",
       "1    Lopez Group      1964.38                  3\n",
       "2       Hill PLC      1754.41                  3\n",
       "3      Reyes LLC      1564.77                  2\n",
       "4    Jenkins PLC      1552.13                  2\n",
       "5     Harris LLC      1386.27                  2\n",
       "6     Turner Ltd      1302.92                  2\n",
       "7   Williams Inc      1289.28                  2\n",
       "8  Henderson Inc      1276.77                  2\n",
       "9   Martinez PLC      1233.47                  2"
      ]
     },
     "execution_count": 11,
     "metadata": {},
     "output_type": "execute_result"
    }
   ],
   "source": [
    "spark.sql(\"\"\"\n",
    "SELECT \n",
    "    merchantName, \n",
    "    SUM(amount) AS total_sales, \n",
    "    COUNT(*) AS transaction_count\n",
    "FROM banking.source_transactions\n",
    "GROUP BY merchantName\n",
    "ORDER BY total_sales DESC\n",
    "LIMIT 10;\n",
    "\"\"\").toPandas()"
   ]
  },
  {
   "cell_type": "code",
   "execution_count": 12,
   "metadata": {},
   "outputs": [],
   "source": [
    "spark.stop()"
   ]
  }
 ],
 "metadata": {
  "kernelspec": {
   "display_name": "Python 3 (ipykernel)",
   "language": "python",
   "name": "python3"
  },
  "language_info": {
   "codemirror_mode": {
    "name": "ipython",
    "version": 3
   },
   "file_extension": ".py",
   "mimetype": "text/x-python",
   "name": "python",
   "nbconvert_exporter": "python",
   "pygments_lexer": "ipython3",
   "version": "3.12.10"
  }
 },
 "nbformat": 4,
 "nbformat_minor": 4
}
