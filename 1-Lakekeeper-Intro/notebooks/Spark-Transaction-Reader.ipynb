{
 "cells": [
  {
   "cell_type": "code",
   "execution_count": 1,
   "metadata": {},
   "outputs": [],
   "source": [
    "import pyspark\n",
    "from pyspark.conf import SparkConf\n",
    "from pyspark.sql import SparkSession\n",
    "import pandas as pd\n",
    "\n",
    "# This CATALOG_URL works for the \"docker compose\" testing and development environment\n",
    "# Change 'lakekeeper' if you are not running on \"docker compose\" (f. ex. 'localhost' if Lakekeeper is running locally).\n",
    "CATALOG_URL = \"http://lakekeeper:8181/catalog\"\n",
    "WAREHOUSE = \"irisa-ot\"\n",
    "\n",
    "SPARK_VERSION = pyspark.__version__\n",
    "SPARK_MINOR_VERSION = '.'.join(SPARK_VERSION.split('.')[:2])\n",
    "ICEBERG_VERSION = \"1.9.2\""
   ]
  },
  {
   "cell_type": "code",
   "execution_count": 2,
   "metadata": {},
   "outputs": [
    {
     "data": {
      "text/plain": [
       "'1.9.2'"
      ]
     },
     "execution_count": 2,
     "metadata": {},
     "output_type": "execute_result"
    }
   ],
   "source": [
    "ICEBERG_VERSION"
   ]
  },
  {
   "cell_type": "code",
   "execution_count": 3,
   "metadata": {},
   "outputs": [
    {
     "data": {
      "text/plain": [
       "'3.5.6'"
      ]
     },
     "execution_count": 3,
     "metadata": {},
     "output_type": "execute_result"
    }
   ],
   "source": [
    "SPARK_VERSION\n"
   ]
  },
  {
   "cell_type": "code",
   "execution_count": 4,
   "metadata": {},
   "outputs": [
    {
     "data": {
      "text/plain": [
       "'3.5'"
      ]
     },
     "execution_count": 4,
     "metadata": {},
     "output_type": "execute_result"
    }
   ],
   "source": [
    "SPARK_MINOR_VERSION"
   ]
  },
  {
   "cell_type": "markdown",
   "metadata": {},
   "source": [
    "# Connect with Spark"
   ]
  },
  {
   "cell_type": "code",
   "execution_count": 5,
   "metadata": {},
   "outputs": [],
   "source": [
    "# Bring in runtime + all bundles (AWS, Azure, GCP) so Lakekeeper can decide\n",
    "HADOOP_VERSION = \"3.4.2\"   \n",
    "\n",
    "spark_jars_packages = (\n",
    "    f\"org.apache.iceberg:iceberg-spark-runtime-{SPARK_MINOR_VERSION}_2.12:{ICEBERG_VERSION},\"\n",
    "    f\"org.apache.iceberg:iceberg-aws-bundle:{ICEBERG_VERSION},\"\n",
    "    f\"org.apache.hadoop:hadoop-aws:{HADOOP_VERSION},\"\n",
    "    f\"com.amazonaws:aws-java-sdk-bundle:1.12.698\"\n",
    ")\n",
    "\n",
    "config = {\n",
    "\n",
    "    f\"spark.sql.catalog.lakekeeper\": \"org.apache.iceberg.spark.SparkCatalog\",\n",
    "    f\"spark.sql.catalog.lakekeeper.type\": \"rest\",\n",
    "    f\"spark.sql.catalog.lakekeeper.uri\": CATALOG_URL,\n",
    "    f\"spark.sql.catalog.lakekeeper.warehouse\": WAREHOUSE,\n",
    "    \"spark.sql.defaultCatalog\": \"lakekeeper\",\n",
    "}\n",
    "    # \"spark.jars.packages\": spark_jars_packages,\n",
    "    # we already downloaded the required jars in the spark Dockerfile "
   ]
  },
  {
   "cell_type": "code",
   "execution_count": 6,
   "metadata": {},
   "outputs": [
    {
     "name": "stderr",
     "output_type": "stream",
     "text": [
      "Setting default log level to \"WARN\".\n",
      "To adjust logging level use sc.setLogLevel(newLevel). For SparkR, use setLogLevel(newLevel).\n",
      "25/09/09 07:51:01 WARN NativeCodeLoader: Unable to load native-hadoop library for your platform... using builtin-java classes where applicable\n"
     ]
    },
    {
     "data": {
      "text/plain": [
       "DataFrame[]"
      ]
     },
     "execution_count": 6,
     "metadata": {},
     "output_type": "execute_result"
    }
   ],
   "source": [
    "spark_config = SparkConf().setMaster('spark://spark-master:7077').setAppName(\"Iceberg-REST-Cluster\")\n",
    "for k, v in config.items():\n",
    "    spark_config = spark_config.set(k, v)\n",
    "\n",
    "spark = SparkSession.builder.config(conf=spark_config).getOrCreate()\n",
    "\n",
    "spark.sql(\"USE lakekeeper\")"
   ]
  },
  {
   "cell_type": "markdown",
   "metadata": {},
   "source": [
    "## Read and Write Tables"
   ]
  },
  {
   "cell_type": "code",
   "execution_count": 7,
   "metadata": {},
   "outputs": [
    {
     "data": {
      "text/html": [
       "<div>\n",
       "<style scoped>\n",
       "    .dataframe tbody tr th:only-of-type {\n",
       "        vertical-align: middle;\n",
       "    }\n",
       "\n",
       "    .dataframe tbody tr th {\n",
       "        vertical-align: top;\n",
       "    }\n",
       "\n",
       "    .dataframe thead th {\n",
       "        text-align: right;\n",
       "    }\n",
       "</style>\n",
       "<table border=\"1\" class=\"dataframe\">\n",
       "  <thead>\n",
       "    <tr style=\"text-align: right;\">\n",
       "      <th></th>\n",
       "      <th>namespace</th>\n",
       "    </tr>\n",
       "  </thead>\n",
       "  <tbody>\n",
       "    <tr>\n",
       "      <th>0</th>\n",
       "      <td>irisa</td>\n",
       "    </tr>\n",
       "    <tr>\n",
       "      <th>1</th>\n",
       "      <td>banking</td>\n",
       "    </tr>\n",
       "    <tr>\n",
       "      <th>2</th>\n",
       "      <td>spark_namespace</td>\n",
       "    </tr>\n",
       "  </tbody>\n",
       "</table>\n",
       "</div>"
      ],
      "text/plain": [
       "         namespace\n",
       "0            irisa\n",
       "1          banking\n",
       "2  spark_namespace"
      ]
     },
     "execution_count": 7,
     "metadata": {},
     "output_type": "execute_result"
    }
   ],
   "source": [
    "# spark.sql(f\"CREATE NAMESPACE IF NOT EXISTS spark_namespace\")\n",
    "spark.sql(\"SHOW NAMESPACES\").toPandas()"
   ]
  },
  {
   "cell_type": "code",
   "execution_count": 8,
   "metadata": {},
   "outputs": [],
   "source": [
    "data = pd.DataFrame([[1, 'a-string', 2.2]], columns=['id', 'strings', 'floats'])\n",
    "# sdf = spark.createDataFrame(data)\n",
    "# sdf.writeTo(f\"spark_namespace.cluster_table\").createOrReplace()"
   ]
  },
  {
   "cell_type": "code",
   "execution_count": 9,
   "metadata": {},
   "outputs": [
    {
     "name": "stderr",
     "output_type": "stream",
     "text": [
      "                                                                                "
     ]
    },
    {
     "data": {
      "text/html": [
       "<div>\n",
       "<style scoped>\n",
       "    .dataframe tbody tr th:only-of-type {\n",
       "        vertical-align: middle;\n",
       "    }\n",
       "\n",
       "    .dataframe tbody tr th {\n",
       "        vertical-align: top;\n",
       "    }\n",
       "\n",
       "    .dataframe thead th {\n",
       "        text-align: right;\n",
       "    }\n",
       "</style>\n",
       "<table border=\"1\" class=\"dataframe\">\n",
       "  <thead>\n",
       "    <tr style=\"text-align: right;\">\n",
       "      <th></th>\n",
       "      <th>transactionId</th>\n",
       "      <th>userId</th>\n",
       "      <th>timestamp</th>\n",
       "      <th>amount</th>\n",
       "      <th>currency</th>\n",
       "      <th>city</th>\n",
       "      <th>country</th>\n",
       "      <th>merchantName</th>\n",
       "      <th>paymentMethod</th>\n",
       "      <th>ipAddress</th>\n",
       "      <th>voucherCode</th>\n",
       "      <th>affiliateId</th>\n",
       "    </tr>\n",
       "  </thead>\n",
       "  <tbody>\n",
       "    <tr>\n",
       "      <th>0</th>\n",
       "      <td>12a10068-bf4f-48d7-b1f5-6350c8d4bb6d</td>\n",
       "      <td>nmunoz</td>\n",
       "      <td>2025-09-09 07:49:19.857246</td>\n",
       "      <td>159.95</td>\n",
       "      <td>USD</td>\n",
       "      <td>Mccannborough</td>\n",
       "      <td>Ireland</td>\n",
       "      <td>Joseph PLC</td>\n",
       "      <td>debit_card</td>\n",
       "      <td>214.235.230.82</td>\n",
       "      <td>DISCOUNT10</td>\n",
       "      <td>408ab1b0-c9a9-4a2d-bc3d-0982e400b09e</td>\n",
       "    </tr>\n",
       "    <tr>\n",
       "      <th>1</th>\n",
       "      <td>8dd12659-0eee-422b-bf05-3283138b4189</td>\n",
       "      <td>bellandrew</td>\n",
       "      <td>2025-09-09 07:49:20.730578</td>\n",
       "      <td>555.57</td>\n",
       "      <td>USD</td>\n",
       "      <td>North Paige</td>\n",
       "      <td>Dominica</td>\n",
       "      <td>Bell-Thompson</td>\n",
       "      <td>debit_card</td>\n",
       "      <td>204.83.191.41</td>\n",
       "      <td></td>\n",
       "      <td>eba763ab-6a10-4dbd-8f16-17e369785561</td>\n",
       "    </tr>\n",
       "    <tr>\n",
       "      <th>2</th>\n",
       "      <td>abcc6255-b864-492c-8bab-82404e726477</td>\n",
       "      <td>martin95</td>\n",
       "      <td>2025-09-09 07:49:20.937325</td>\n",
       "      <td>799.16</td>\n",
       "      <td>GBP</td>\n",
       "      <td>West Christianport</td>\n",
       "      <td>Cuba</td>\n",
       "      <td>Morrison-Boyd</td>\n",
       "      <td>debit_card</td>\n",
       "      <td>59.169.19.124</td>\n",
       "      <td></td>\n",
       "      <td>46d44608-bfac-4d5c-90b0-7edc7bcd92ec</td>\n",
       "    </tr>\n",
       "    <tr>\n",
       "      <th>3</th>\n",
       "      <td>285dc3e6-2caf-46bd-8253-26a0b8c50158</td>\n",
       "      <td>perezmichelle</td>\n",
       "      <td>2025-09-09 07:49:21.268129</td>\n",
       "      <td>698.33</td>\n",
       "      <td>USD</td>\n",
       "      <td>East Hannah</td>\n",
       "      <td>Cuba</td>\n",
       "      <td>Moore, Salazar and Howard</td>\n",
       "      <td>debit_card</td>\n",
       "      <td>160.157.79.243</td>\n",
       "      <td>DISCOUNT10</td>\n",
       "      <td>5dab46f6-842c-461d-97af-3d91a5b57351</td>\n",
       "    </tr>\n",
       "    <tr>\n",
       "      <th>4</th>\n",
       "      <td>dc38da22-8a26-404b-91c5-9becf7b880fb</td>\n",
       "      <td>garrettdennis</td>\n",
       "      <td>2025-09-09 07:49:22.033480</td>\n",
       "      <td>851.87</td>\n",
       "      <td>USD</td>\n",
       "      <td>East Gina</td>\n",
       "      <td>Latvia</td>\n",
       "      <td>Johns-Velasquez</td>\n",
       "      <td>debit_card</td>\n",
       "      <td>123.123.227.30</td>\n",
       "      <td></td>\n",
       "      <td>313897e0-5e89-41a7-a8a4-00d60d410977</td>\n",
       "    </tr>\n",
       "    <tr>\n",
       "      <th>...</th>\n",
       "      <td>...</td>\n",
       "      <td>...</td>\n",
       "      <td>...</td>\n",
       "      <td>...</td>\n",
       "      <td>...</td>\n",
       "      <td>...</td>\n",
       "      <td>...</td>\n",
       "      <td>...</td>\n",
       "      <td>...</td>\n",
       "      <td>...</td>\n",
       "      <td>...</td>\n",
       "      <td>...</td>\n",
       "    </tr>\n",
       "    <tr>\n",
       "      <th>385</th>\n",
       "      <td>5b2e754a-bbf3-42e6-965c-fc6e39e9fd25</td>\n",
       "      <td>ogreen</td>\n",
       "      <td>2025-09-09 07:50:05.985877</td>\n",
       "      <td>836.83</td>\n",
       "      <td>GBP</td>\n",
       "      <td>North Paulfurt</td>\n",
       "      <td>Latvia</td>\n",
       "      <td>Mills LLC</td>\n",
       "      <td>credit_card</td>\n",
       "      <td>189.237.77.142</td>\n",
       "      <td></td>\n",
       "      <td>e9d63413-427c-4e39-a7f3-fcd7406664e1</td>\n",
       "    </tr>\n",
       "    <tr>\n",
       "      <th>386</th>\n",
       "      <td>43a78a23-d7b9-45f7-a5a6-43c1f8da83db</td>\n",
       "      <td>wrodriguez</td>\n",
       "      <td>2025-09-09 07:50:06.744038</td>\n",
       "      <td>293.14</td>\n",
       "      <td>GBP</td>\n",
       "      <td>Lake William</td>\n",
       "      <td>Botswana</td>\n",
       "      <td>Mcdonald Inc</td>\n",
       "      <td>credit_card</td>\n",
       "      <td>186.156.134.1</td>\n",
       "      <td>DISCOUNT10</td>\n",
       "      <td>20e3080f-bcf1-441a-87f9-e9799af1971e</td>\n",
       "    </tr>\n",
       "    <tr>\n",
       "      <th>387</th>\n",
       "      <td>bf3c0d50-63dd-4dd8-afbd-f1acae463e6e</td>\n",
       "      <td>hyates</td>\n",
       "      <td>2025-09-09 07:50:06.945984</td>\n",
       "      <td>393.17</td>\n",
       "      <td>GBP</td>\n",
       "      <td>Michaelstad</td>\n",
       "      <td>Tokelau</td>\n",
       "      <td>Riley-Mata</td>\n",
       "      <td>credit_card</td>\n",
       "      <td>110.218.112.125</td>\n",
       "      <td></td>\n",
       "      <td>c8fec6aa-b7f2-4271-bb0c-a071f477904a</td>\n",
       "    </tr>\n",
       "    <tr>\n",
       "      <th>388</th>\n",
       "      <td>41acc25a-5ba8-4541-964e-2701edbc3936</td>\n",
       "      <td>martinezpaul</td>\n",
       "      <td>2025-09-09 07:50:07.865912</td>\n",
       "      <td>292.51</td>\n",
       "      <td>GBP</td>\n",
       "      <td>Rhodesview</td>\n",
       "      <td>Anguilla</td>\n",
       "      <td>Simmons, Lee and Mahoney</td>\n",
       "      <td>credit_card</td>\n",
       "      <td>49.140.139.134</td>\n",
       "      <td></td>\n",
       "      <td>e0117134-5e23-4fca-96aa-188234d4d076</td>\n",
       "    </tr>\n",
       "    <tr>\n",
       "      <th>389</th>\n",
       "      <td>b6b8f165-1267-49dc-80dd-7340d3fd74d5</td>\n",
       "      <td>brittany78</td>\n",
       "      <td>2025-09-09 07:50:08.562320</td>\n",
       "      <td>803.53</td>\n",
       "      <td>USD</td>\n",
       "      <td>Brownside</td>\n",
       "      <td>Comoros</td>\n",
       "      <td>Keller Ltd</td>\n",
       "      <td>online_transfer</td>\n",
       "      <td>210.175.59.168</td>\n",
       "      <td></td>\n",
       "      <td>0e19bd4c-179c-4f28-89c0-f4ecbdc47575</td>\n",
       "    </tr>\n",
       "  </tbody>\n",
       "</table>\n",
       "<p>390 rows × 12 columns</p>\n",
       "</div>"
      ],
      "text/plain": [
       "                            transactionId         userId  \\\n",
       "0    12a10068-bf4f-48d7-b1f5-6350c8d4bb6d         nmunoz   \n",
       "1    8dd12659-0eee-422b-bf05-3283138b4189     bellandrew   \n",
       "2    abcc6255-b864-492c-8bab-82404e726477       martin95   \n",
       "3    285dc3e6-2caf-46bd-8253-26a0b8c50158  perezmichelle   \n",
       "4    dc38da22-8a26-404b-91c5-9becf7b880fb  garrettdennis   \n",
       "..                                    ...            ...   \n",
       "385  5b2e754a-bbf3-42e6-965c-fc6e39e9fd25         ogreen   \n",
       "386  43a78a23-d7b9-45f7-a5a6-43c1f8da83db     wrodriguez   \n",
       "387  bf3c0d50-63dd-4dd8-afbd-f1acae463e6e         hyates   \n",
       "388  41acc25a-5ba8-4541-964e-2701edbc3936   martinezpaul   \n",
       "389  b6b8f165-1267-49dc-80dd-7340d3fd74d5     brittany78   \n",
       "\n",
       "                     timestamp  amount currency                city   country  \\\n",
       "0   2025-09-09 07:49:19.857246  159.95      USD       Mccannborough   Ireland   \n",
       "1   2025-09-09 07:49:20.730578  555.57      USD         North Paige  Dominica   \n",
       "2   2025-09-09 07:49:20.937325  799.16      GBP  West Christianport      Cuba   \n",
       "3   2025-09-09 07:49:21.268129  698.33      USD         East Hannah      Cuba   \n",
       "4   2025-09-09 07:49:22.033480  851.87      USD           East Gina    Latvia   \n",
       "..                         ...     ...      ...                 ...       ...   \n",
       "385 2025-09-09 07:50:05.985877  836.83      GBP      North Paulfurt    Latvia   \n",
       "386 2025-09-09 07:50:06.744038  293.14      GBP        Lake William  Botswana   \n",
       "387 2025-09-09 07:50:06.945984  393.17      GBP         Michaelstad   Tokelau   \n",
       "388 2025-09-09 07:50:07.865912  292.51      GBP          Rhodesview  Anguilla   \n",
       "389 2025-09-09 07:50:08.562320  803.53      USD           Brownside   Comoros   \n",
       "\n",
       "                  merchantName    paymentMethod        ipAddress voucherCode  \\\n",
       "0                   Joseph PLC       debit_card   214.235.230.82  DISCOUNT10   \n",
       "1                Bell-Thompson       debit_card    204.83.191.41               \n",
       "2                Morrison-Boyd       debit_card    59.169.19.124               \n",
       "3    Moore, Salazar and Howard       debit_card   160.157.79.243  DISCOUNT10   \n",
       "4              Johns-Velasquez       debit_card   123.123.227.30               \n",
       "..                         ...              ...              ...         ...   \n",
       "385                  Mills LLC      credit_card   189.237.77.142               \n",
       "386               Mcdonald Inc      credit_card    186.156.134.1  DISCOUNT10   \n",
       "387                 Riley-Mata      credit_card  110.218.112.125               \n",
       "388   Simmons, Lee and Mahoney      credit_card   49.140.139.134               \n",
       "389                 Keller Ltd  online_transfer   210.175.59.168               \n",
       "\n",
       "                              affiliateId  \n",
       "0    408ab1b0-c9a9-4a2d-bc3d-0982e400b09e  \n",
       "1    eba763ab-6a10-4dbd-8f16-17e369785561  \n",
       "2    46d44608-bfac-4d5c-90b0-7edc7bcd92ec  \n",
       "3    5dab46f6-842c-461d-97af-3d91a5b57351  \n",
       "4    313897e0-5e89-41a7-a8a4-00d60d410977  \n",
       "..                                    ...  \n",
       "385  e9d63413-427c-4e39-a7f3-fcd7406664e1  \n",
       "386  20e3080f-bcf1-441a-87f9-e9799af1971e  \n",
       "387  c8fec6aa-b7f2-4271-bb0c-a071f477904a  \n",
       "388  e0117134-5e23-4fca-96aa-188234d4d076  \n",
       "389  0e19bd4c-179c-4f28-89c0-f4ecbdc47575  \n",
       "\n",
       "[390 rows x 12 columns]"
      ]
     },
     "execution_count": 9,
     "metadata": {},
     "output_type": "execute_result"
    }
   ],
   "source": [
    "spark.sql(f\"SELECT * FROM banking.source_transactions\").toPandas()"
   ]
  },
  {
   "cell_type": "code",
   "execution_count": null,
   "metadata": {},
   "outputs": [],
   "source": [
    "spark.sql(\"\"\"\n",
    "SELECT \n",
    "    merchantName, \n",
    "    SUM(amount) AS total_sales, \n",
    "    COUNT(*) AS transaction_count\n",
    "FROM my_datalake.banking.source_transactions\n",
    "GROUP BY merchantName\n",
    "ORDER BY total_sales DESC\n",
    "LIMIT 10;\n",
    "\"\"\").toPandas()"
   ]
  },
  {
   "cell_type": "code",
   "execution_count": 12,
   "metadata": {},
   "outputs": [],
   "source": [
    "spark.stop()"
   ]
  }
 ],
 "metadata": {
  "kernelspec": {
   "display_name": "Python 3 (ipykernel)",
   "language": "python",
   "name": "python3"
  },
  "language_info": {
   "codemirror_mode": {
    "name": "ipython",
    "version": 3
   },
   "file_extension": ".py",
   "mimetype": "text/x-python",
   "name": "python",
   "nbconvert_exporter": "python",
   "pygments_lexer": "ipython3",
   "version": "3.12.11"
  }
 },
 "nbformat": 4,
 "nbformat_minor": 4
}
